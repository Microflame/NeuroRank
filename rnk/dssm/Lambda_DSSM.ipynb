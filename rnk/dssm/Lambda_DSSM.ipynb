{
 "cells": [
  {
   "cell_type": "code",
   "execution_count": 1,
   "metadata": {},
   "outputs": [],
   "source": [
    "import os\n",
    "from collections import defaultdict\n",
    "\n",
    "import numpy as np\n",
    "\n",
    "import torch\n",
    "from torch import nn\n",
    "from torch.autograd import Variable, grad\n",
    "from torch.utils.data import Dataset, DataLoader\n",
    "\n",
    "from tqdm import tqdm_notebook as tqdm"
   ]
  },
  {
   "cell_type": "code",
   "execution_count": 2,
   "metadata": {},
   "outputs": [],
   "source": [
    "def load_txt(path, dtype=np.float):\n",
    "    res = []\n",
    "    with open(path) as f:\n",
    "        for line in f:\n",
    "            res.append(line.split())\n",
    "    return np.array(res, dtype=dtype)\n",
    "\n",
    "def load_txt_fast(path, shape, dtype=np.float):\n",
    "    res = np.empty(shape, dtype=dtype)\n",
    "    with open(path) as f:\n",
    "        i = 0\n",
    "        for line in f:\n",
    "            res[i] = line.split()\n",
    "            i += 1\n",
    "    return res"
   ]
  },
  {
   "cell_type": "code",
   "execution_count": 3,
   "metadata": {},
   "outputs": [],
   "source": [
    "## NDCG\n",
    "\n",
    "def calc_dcg(m, p, k=5):\n",
    "    assert len(m) == len(p)\n",
    "    order = np.argsort(-p)[:k]\n",
    "    dcg = 0\n",
    "    for i in order:\n",
    "        dcg += (2 ** m[i] - 1) / (np.log2(i + 2))\n",
    "    return dcg\n",
    "\n",
    "def calc_ndcg(marks, preds, groups):\n",
    "    ndcgs = []\n",
    "    \n",
    "    start = 0\n",
    "    cur_group = groups[0]\n",
    "    for i in range(len(marks)):\n",
    "        if groups[i] != cur_group:\n",
    "            m = marks[start:i]\n",
    "            p = preds[start:i]\n",
    "            ndcg = calc_dcg(m, p) / (calc_dcg(m, m) + 1e-5)\n",
    "            ndcgs.append(ndcg)\n",
    "            start = i\n",
    "            cur_group = groups[i]\n",
    "    m = marks[start:]\n",
    "    p = preds[start:]\n",
    "    ndcg = calc_dcg(m, p) / (calc_dcg(m, m) + 1e-5)\n",
    "    ndcgs.append(ndcg)\n",
    "    \n",
    "    return np.mean(ndcgs)"
   ]
  },
  {
   "cell_type": "code",
   "execution_count": 4,
   "metadata": {},
   "outputs": [],
   "source": [
    "X = load_txt_fast('./data/processed.tsv', (161626, 200), dtype=np.int)\n",
    "y_tr = load_txt_fast('../../data/raw/m_train.tsv', (161626, 1)).ravel()\n",
    "groups_tr = load_txt_fast('../../data/raw/groups.tr.tsv', (161626, 1), dtype=np.int).ravel()\n",
    "y = ((y_tr > 2)).astype(np.float32)"
   ]
  },
  {
   "cell_type": "code",
   "execution_count": 5,
   "metadata": {},
   "outputs": [],
   "source": [
    "y_te = load_txt_fast('../../data/raw/m_test.tsv', (40101, 1), dtype=np.int).ravel()\n",
    "groups_te = load_txt_fast('../../data/raw/groups.te.tsv', (40101, 1), dtype=np.int).ravel()\n",
    "\n",
    "X_te = load_txt_fast('./data/processed_te.tsv', (40101, 200), dtype=np.int)\n",
    "X_te = X_te.reshape(-1, 2, 100)"
   ]
  },
  {
   "cell_type": "code",
   "execution_count": 6,
   "metadata": {},
   "outputs": [],
   "source": [
    "K = 100\n",
    "assert X.shape[1] == K * 2\n",
    "X = X.reshape(-1, 2, K)"
   ]
  },
  {
   "cell_type": "code",
   "execution_count": 7,
   "metadata": {},
   "outputs": [],
   "source": [
    "class LambdaGroup:\n",
    "    def __init__(self, marks, begin, end):\n",
    "        self.begin = begin\n",
    "        self.end = end\n",
    "        marks = marks[begin:end]\n",
    "        sg = defaultdict(list)\n",
    "        for i, m in enumerate(marks):\n",
    "            sg[m].append(i)\n",
    "        self.subgroups = list(map(lambda x:x[1], sorted(sg.items(), key=lambda x:-x[0])))\n",
    "        \n",
    "class LambdaDssmDataloader:\n",
    "    def __init__(self, marks, data, groups, shuffle=False):\n",
    "        assert len(marks) == len(data)\n",
    "        assert len(marks) == len(groups)\n",
    "        \n",
    "        self.marks = marks\n",
    "        self.data = data\n",
    "        self.shuffle = shuffle\n",
    "        \n",
    "        cur_group = groups[0]\n",
    "        self.groups = []\n",
    "        begin = 0\n",
    "        for i in range(len(groups)):\n",
    "            if groups[i] != cur_group:\n",
    "                cur_group = groups[i]\n",
    "                self.groups.append(LambdaGroup(marks, begin, i))\n",
    "                begin = i\n",
    "        self.groups.append(LambdaGroup(marks, begin, len(groups)))\n",
    "        \n",
    "    def __len__(self):\n",
    "        return len(self.groups)\n",
    "    \n",
    "    def __getitem__(self, idx):\n",
    "        g = self.groups[idx]\n",
    "        begin = g.begin\n",
    "        end = g.end\n",
    "        return self.marks[begin:end], self.data[begin:end], g.subgroups\n",
    "    \n",
    "    def __iter__(self):\n",
    "        order = np.arange(len(self))\n",
    "        if self.shuffle:\n",
    "            np.random.shuffle(order)\n",
    "        for i in order:\n",
    "            yield self[i]"
   ]
  },
  {
   "cell_type": "code",
   "execution_count": 8,
   "metadata": {},
   "outputs": [],
   "source": [
    "train_dataloader = LambdaDssmDataloader(y_tr, X, groups_tr, True)\n",
    "train_dataloader_lin = LambdaDssmDataloader(y_tr, X, groups_tr, False)\n",
    "\n",
    "test_dataloader = LambdaDssmDataloader(y_te, X_te, groups_te, False)"
   ]
  },
  {
   "cell_type": "code",
   "execution_count": 13,
   "metadata": {},
   "outputs": [],
   "source": [
    "def eval_ndcg(model, dl, a_y, a_g):\n",
    "    preds = np.empty(len(a_y))\n",
    "\n",
    "    model.cuda()\n",
    "    model.eval()\n",
    "    with torch.no_grad():\n",
    "        i = 0\n",
    "        for targets, qd_pairs, _ in dl:\n",
    "            qd_pairs = Variable(torch.tensor(qd_pairs)).cuda()\n",
    "            pred = model(qd_pairs).cpu().data.numpy()\n",
    "            preds[i:i+len(pred)] = pred\n",
    "            i += len(pred)\n",
    "    \n",
    "    return calc_ndcg(a_y, preds, a_g)"
   ]
  },
  {
   "cell_type": "code",
   "execution_count": 14,
   "metadata": {},
   "outputs": [],
   "source": [
    "def calc_lambdas(s, subgroups):\n",
    "    lambdas = np.zeros(len(s), dtype=np.float32)\n",
    "    for best_sg in range(len(subgroups) - 1):\n",
    "        for worse_sg in range(best_sg + 1, len(subgroups)):\n",
    "            for i in subgroups[best_sg]:\n",
    "                for j in subgroups[worse_sg]:\n",
    "                    delta = np.clip(s[i] - s[j], -30, 30)\n",
    "                    lmb = - 1.0 / (1.0 + np.exp(delta))\n",
    "                    lambdas[i] += lmb\n",
    "                    lambdas[j] -= lmb\n",
    "    return lambdas"
   ]
  },
  {
   "cell_type": "code",
   "execution_count": 32,
   "metadata": {},
   "outputs": [],
   "source": [
    "class DSSM(nn.Module):\n",
    "    def __init__(self):\n",
    "        super(DSSM, self).__init__()\n",
    "        \n",
    "        self.embedding = nn.Embedding(13678, 300)\n",
    "        self.linear_1 = nn.Linear(300, 300)\n",
    "        self.linear_2 = nn.Linear(300, 300)\n",
    "        self.linear_3 = nn.Linear(300, 128)\n",
    "        \n",
    "        self.dropout_1 = nn.Dropout()\n",
    "        self.dropout_2 = nn.Dropout()\n",
    "        \n",
    "        self.NL = nn.functional.elu\n",
    "    \n",
    "    def forward(self, x):\n",
    "        x = self.embedding(x)\n",
    "        x = self.dropout_1(x)\n",
    "        x = torch.mean(x, 2)\n",
    "#         x = self.NL(x)\n",
    "#         x = self.linear_1(x)\n",
    "#         x = self.NL(x)\n",
    "#         x = self.linear_2(x)\n",
    "#         x = self.NL(x)\n",
    "        x = self.linear_3(x)\n",
    "        \n",
    "        ## Cosine\n",
    "#         dot_prod = torch.sum(torch.prod(x, 1), 1)\n",
    "#         norm = torch.sqrt(torch.prod(torch.sum(x * x, 2), 1))\n",
    "#         self.last_dot_prod = dot_prod.cpu().data.numpy()\n",
    "#         self.last_norm = norm.cpu().data.numpy()\n",
    "#         cosine = dot_prod / (norm + 1e-4)\n",
    "#         pred = (cosine + 1.0) / 2.0\n",
    "        \n",
    "#         cosine = cosine.view(-1, 1)\n",
    "#         pred = torch.sigmoid(self.cos_final(cosine))\n",
    "\n",
    "        ## Dot\n",
    "        prod = torch.prod(x, 1)\n",
    "        dot_prod = torch.mean(prod, 1)\n",
    "        pred = dot_prod\n",
    "        \n",
    "        return pred.view(-1)"
   ]
  },
  {
   "cell_type": "code",
   "execution_count": 33,
   "metadata": {},
   "outputs": [],
   "source": [
    "model = DSSM().cuda()\n",
    "opt = torch.optim.Adam(model.parameters(), 0.01)\n",
    "scheduler = torch.optim.lr_scheduler.StepLR(opt, 999999999, 0.5)"
   ]
  },
  {
   "cell_type": "code",
   "execution_count": 34,
   "metadata": {},
   "outputs": [
    {
     "name": "stdout",
     "output_type": "stream",
     "text": [
      "[1 / 10]\t0.486\t0.446\n",
      "[2 / 10]\t0.560\t0.454\n",
      "[3 / 10]\t0.609\t0.459\n",
      "[4 / 10]\t0.660\t0.502\n",
      "[5 / 10]\t0.682\t0.478\n",
      "[6 / 10]\t0.718\t0.496\n",
      "[7 / 10]\t0.724\t0.494\n",
      "[8 / 10]\t0.725\t0.478\n",
      "[9 / 10]\t0.749\t0.500\n",
      "[10 / 10]\t0.756\t0.485\n"
     ]
    }
   ],
   "source": [
    "epochs = 10\n",
    "\n",
    "for e in range(1, epochs+1):\n",
    "    model.train()\n",
    "    model.cuda()\n",
    "    cnt = 10000\n",
    "    for marks, qd_pairs, subgroups in train_dataloader:\n",
    "        cnt -= 1\n",
    "        if cnt == 0:\n",
    "            break\n",
    "        qd_pairs = Variable(torch.tensor(qd_pairs)).cuda()\n",
    "        \n",
    "        model.zero_grad()\n",
    "        \n",
    "        s = model(qd_pairs)\n",
    "        lambdas = calc_lambdas(s.data.cpu().numpy(), subgroups)\n",
    "        \n",
    "        lambdas = torch.tensor(lambdas).cuda()\n",
    "        s.backward(lambdas)\n",
    "        opt.step()\n",
    "    train_ndcg = eval_ndcg(model, train_dataloader_lin, y_tr, groups_tr)\n",
    "    test_ndcg = eval_ndcg(model, test_dataloader, y_te, groups_te)\n",
    "    scheduler.step()\n",
    "    print('[%d / %d]\\t%.3lf\\t%.3lf' % (e, epochs, train_ndcg, test_ndcg))"
   ]
  },
  {
   "cell_type": "code",
   "execution_count": null,
   "metadata": {},
   "outputs": [],
   "source": []
  },
  {
   "cell_type": "markdown",
   "metadata": {},
   "source": [
    "## Predict"
   ]
  },
  {
   "cell_type": "code",
   "execution_count": 35,
   "metadata": {},
   "outputs": [
    {
     "name": "stdout",
     "output_type": "stream",
     "text": [
      "CPU times: user 2.03 s, sys: 108 ms, total: 2.14 s\n",
      "Wall time: 2.13 s\n"
     ]
    }
   ],
   "source": [
    "%%time\n",
    "\n",
    "preds = np.empty(len(y_te))\n",
    "\n",
    "model.cuda()\n",
    "i = 0\n",
    "for qd_pairs, targets in test_dataloader:\n",
    "    qd_pairs = Variable(qd_pairs).cuda()\n",
    "    targets = Variable(targets).cuda()\n",
    "    pred = model(qd_pairs).cpu().data.numpy()\n",
    "    preds[i:i+len(pred)] = pred\n",
    "    i += len(pred)"
   ]
  },
  {
   "cell_type": "code",
   "execution_count": 36,
   "metadata": {},
   "outputs": [
    {
     "data": {
      "text/plain": [
       "0.4653389935005265"
      ]
     },
     "execution_count": 36,
     "metadata": {},
     "output_type": "execute_result"
    }
   ],
   "source": [
    "calc_ndcg(y_te, preds, groups_te)"
   ]
  },
  {
   "cell_type": "code",
   "execution_count": null,
   "metadata": {},
   "outputs": [],
   "source": []
  },
  {
   "cell_type": "code",
   "execution_count": null,
   "metadata": {},
   "outputs": [],
   "source": []
  },
  {
   "cell_type": "code",
   "execution_count": 30,
   "metadata": {},
   "outputs": [],
   "source": [
    "np.savetxt('./data/pred.tsv', preds)"
   ]
  }
 ],
 "metadata": {
  "kernelspec": {
   "display_name": "Python 3",
   "language": "python",
   "name": "python3"
  },
  "language_info": {
   "codemirror_mode": {
    "name": "ipython",
    "version": 3
   },
   "file_extension": ".py",
   "mimetype": "text/x-python",
   "name": "python",
   "nbconvert_exporter": "python",
   "pygments_lexer": "ipython3",
   "version": "3.7.1"
  }
 },
 "nbformat": 4,
 "nbformat_minor": 2
}
